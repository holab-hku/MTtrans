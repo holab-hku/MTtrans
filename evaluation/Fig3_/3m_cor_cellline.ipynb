{
 "cells": [
  {
   "cell_type": "code",
   "execution_count": 1,
   "id": "9248ddfa-b828-4992-b052-a73771587058",
   "metadata": {},
   "outputs": [
    {
     "name": "stdout",
     "output_type": "stream",
     "text": [
      "add /ssd/users/wergillius/Project/MTtrans to path\n",
      "/ssd/users/wergillius/Project/MTtrans\n"
     ]
    }
   ],
   "source": [
    "%load_ext autoreload\n",
    "%autoreload 2\n",
    "import os,sys\n",
    "import PATH\n",
    "os.environ['CUDA_VISIBLE_DEVICES'] = '1'\n",
    "import torch\n",
    "import utils\n",
    "from models import reader\n",
    "from models.popen import Auto_popen"
   ]
  },
  {
   "cell_type": "code",
   "execution_count": 22,
   "id": "db46ac7e-61c7-4bc1-9289-b559cde1aa39",
   "metadata": {},
   "outputs": [],
   "source": [
    "torch.set_num_threads(2)"
   ]
  },
  {
   "cell_type": "code",
   "execution_count": 38,
   "id": "0d56aac0-fc71-4036-8a15-5b3d2dae4159",
   "metadata": {},
   "outputs": [],
   "source": [
    "from evaluation.evaluation_func import *"
   ]
  },
  {
   "cell_type": "code",
   "execution_count": 46,
   "id": "4996528b-7449-4278-9d9f-c7642d6ded66",
   "metadata": {},
   "outputs": [],
   "source": [
    "from scipy import stats"
   ]
  },
  {
   "cell_type": "markdown",
   "id": "1323bd38-c52a-4de9-b5e3-0aa6277cb117",
   "metadata": {},
   "source": [
    "## prepare data"
   ]
  },
  {
   "cell_type": "code",
   "execution_count": 4,
   "id": "90810689-b0bd-4178-aac6-45df118a4819",
   "metadata": {},
   "outputs": [],
   "source": [
    "datapopen = Auto_popen(os.path.join(utils.script_dir,  'log/Backbone/RL_hard_share/3R/schedule_MTL.ini'))"
   ]
  },
  {
   "cell_type": "code",
   "execution_count": 13,
   "id": "19eb9d23-8a52-45bd-a1f2-85224fbf7438",
   "metadata": {},
   "outputs": [],
   "source": [
    "datapopen.shuffle = False\n",
    "loaderset = kfold_load_data('log/Backbone/RL_hard_share/3R/schedule_MTL.ini', 'cpu', 1)"
   ]
  },
  {
   "cell_type": "code",
   "execution_count": 19,
   "id": "7ab5455c-597b-4a00-afe6-796294f2fa72",
   "metadata": {},
   "outputs": [
    {
     "data": {
      "text/html": [
       "<div>\n",
       "<style scoped>\n",
       "    .dataframe tbody tr th:only-of-type {\n",
       "        vertical-align: middle;\n",
       "    }\n",
       "\n",
       "    .dataframe tbody tr th {\n",
       "        vertical-align: top;\n",
       "    }\n",
       "\n",
       "    .dataframe thead th {\n",
       "        text-align: right;\n",
       "    }\n",
       "</style>\n",
       "<table border=\"1\" class=\"dataframe\">\n",
       "  <thead>\n",
       "    <tr style=\"text-align: right;\">\n",
       "      <th></th>\n",
       "      <th>T_id</th>\n",
       "      <th>te</th>\n",
       "      <th>utr</th>\n",
       "      <th>utr_len</th>\n",
       "      <th>num_index</th>\n",
       "      <th>te_scale</th>\n",
       "      <th>log_te</th>\n",
       "      <th>scaled_log_te</th>\n",
       "      <th>nupack_MFE</th>\n",
       "      <th>eGFP50_nupMFE</th>\n",
       "      <th>full_nupMFE</th>\n",
       "    </tr>\n",
       "  </thead>\n",
       "  <tbody>\n",
       "    <tr>\n",
       "      <th>2570</th>\n",
       "      <td>ENST00000487505.1</td>\n",
       "      <td>0.588247</td>\n",
       "      <td>GGCTAAGTCAGCGCTTAATCAAGCGCCGGCTGGAGGCCCAGCCTGG...</td>\n",
       "      <td>100</td>\n",
       "      <td>9456</td>\n",
       "      <td>-0.067221</td>\n",
       "      <td>-0.530608</td>\n",
       "      <td>0.079781</td>\n",
       "      <td>-29.774862</td>\n",
       "      <td>-57.036186</td>\n",
       "      <td>-143.789932</td>\n",
       "    </tr>\n",
       "    <tr>\n",
       "      <th>5155</th>\n",
       "      <td>ENST00000393033.4</td>\n",
       "      <td>1.290938</td>\n",
       "      <td>AGGCCCGGTCTGGAGTTTGCGGAGGGCCGAGCCGGGTGCGCACGGG...</td>\n",
       "      <td>96</td>\n",
       "      <td>3312</td>\n",
       "      <td>0.087494</td>\n",
       "      <td>0.255369</td>\n",
       "      <td>0.821156</td>\n",
       "      <td>-43.807373</td>\n",
       "      <td>-57.952656</td>\n",
       "      <td>-167.165115</td>\n",
       "    </tr>\n",
       "    <tr>\n",
       "      <th>12078</th>\n",
       "      <td>ENST00000455162.1</td>\n",
       "      <td>0.099419</td>\n",
       "      <td>ATGAATGGGCGCTGGGAACACGCCCGCGAGGTGGGGACGCGCCGGC...</td>\n",
       "      <td>99</td>\n",
       "      <td>16359</td>\n",
       "      <td>-0.174848</td>\n",
       "      <td>-2.308414</td>\n",
       "      <td>-1.597138</td>\n",
       "      <td>-48.520916</td>\n",
       "      <td>-64.145287</td>\n",
       "      <td>-162.241669</td>\n",
       "    </tr>\n",
       "    <tr>\n",
       "      <th>3024</th>\n",
       "      <td>ENST00000436547.2</td>\n",
       "      <td>0.930060</td>\n",
       "      <td>AACCCTGCCCTCCCCCTTGTCCCGGGATCGCTCCGTCGCACCCAC</td>\n",
       "      <td>45</td>\n",
       "      <td>5941</td>\n",
       "      <td>0.008038</td>\n",
       "      <td>-0.072506</td>\n",
       "      <td>0.511886</td>\n",
       "      <td>-6.609412</td>\n",
       "      <td>-31.775995</td>\n",
       "      <td>-124.441010</td>\n",
       "    </tr>\n",
       "    <tr>\n",
       "      <th>4206</th>\n",
       "      <td>ENST00000542928.1</td>\n",
       "      <td>0.805883</td>\n",
       "      <td>CAATTTCTCCTCCCCCTCCCGGCCAA</td>\n",
       "      <td>26</td>\n",
       "      <td>7062</td>\n",
       "      <td>-0.019303</td>\n",
       "      <td>-0.215817</td>\n",
       "      <td>0.376709</td>\n",
       "      <td>0.000000</td>\n",
       "      <td>-24.539268</td>\n",
       "      <td>-118.347366</td>\n",
       "    </tr>\n",
       "  </tbody>\n",
       "</table>\n",
       "</div>"
      ],
      "text/plain": [
       "                    T_id        te  \\\n",
       "2570   ENST00000487505.1  0.588247   \n",
       "5155   ENST00000393033.4  1.290938   \n",
       "12078  ENST00000455162.1  0.099419   \n",
       "3024   ENST00000436547.2  0.930060   \n",
       "4206   ENST00000542928.1  0.805883   \n",
       "\n",
       "                                                     utr  utr_len  num_index  \\\n",
       "2570   GGCTAAGTCAGCGCTTAATCAAGCGCCGGCTGGAGGCCCAGCCTGG...      100       9456   \n",
       "5155   AGGCCCGGTCTGGAGTTTGCGGAGGGCCGAGCCGGGTGCGCACGGG...       96       3312   \n",
       "12078  ATGAATGGGCGCTGGGAACACGCCCGCGAGGTGGGGACGCGCCGGC...       99      16359   \n",
       "3024       AACCCTGCCCTCCCCCTTGTCCCGGGATCGCTCCGTCGCACCCAC       45       5941   \n",
       "4206                          CAATTTCTCCTCCCCCTCCCGGCCAA       26       7062   \n",
       "\n",
       "       te_scale    log_te  scaled_log_te  nupack_MFE  eGFP50_nupMFE  \\\n",
       "2570  -0.067221 -0.530608       0.079781  -29.774862     -57.036186   \n",
       "5155   0.087494  0.255369       0.821156  -43.807373     -57.952656   \n",
       "12078 -0.174848 -2.308414      -1.597138  -48.520916     -64.145287   \n",
       "3024   0.008038 -0.072506       0.511886   -6.609412     -31.775995   \n",
       "4206  -0.019303 -0.215817       0.376709    0.000000     -24.539268   \n",
       "\n",
       "       full_nupMFE  \n",
       "2570   -143.789932  \n",
       "5155   -167.165115  \n",
       "12078  -162.241669  \n",
       "3024   -124.441010  \n",
       "4206   -118.347366  "
      ]
     },
     "execution_count": 19,
     "metadata": {},
     "output_type": "execute_result"
    }
   ],
   "source": [
    "# try RP293T\n",
    "RP293_train_df = loaderset['RP_293T'][0].dataset.df\n",
    "RP293_train_df.head()"
   ]
  },
  {
   "cell_type": "markdown",
   "id": "b08f6060-4c76-45cf-a691-c49c03edd40e",
   "metadata": {},
   "source": [
    "### 3m model kfold = 1"
   ]
  },
  {
   "cell_type": "code",
   "execution_count": 14,
   "id": "231b793d-23b1-47d7-bc83-6499e7d5b6ee",
   "metadata": {},
   "outputs": [],
   "source": [
    "model_config = \"log/Backbone/RL_hard_share/3M/small_repective_filed_strides1113.ini\""
   ]
  },
  {
   "cell_type": "code",
   "execution_count": 20,
   "id": "837056c3-957a-4d77-a5c8-e79ab9ca0ad1",
   "metadata": {},
   "outputs": [],
   "source": [
    "model = reload_model(model_config, 'cpu', 1)"
   ]
  },
  {
   "cell_type": "code",
   "execution_count": 26,
   "id": "56dcf934-67c4-4fe9-90dd-81fe213ba465",
   "metadata": {},
   "outputs": [
    {
     "data": {
      "text/plain": [
       "['MPA_U', 'MPA_H', 'MPA_V']"
      ]
     },
     "execution_count": 26,
     "metadata": {},
     "output_type": "execute_result"
    }
   ],
   "source": [
    "model.all_tasks"
   ]
  },
  {
   "cell_type": "code",
   "execution_count": 57,
   "id": "5f412f3f-1124-47ce-b584-c13ea61cb198",
   "metadata": {},
   "outputs": [],
   "source": [
    "def test_3m_on_3rdata(model, data_set):\n",
    "\n",
    "    pred_3m = {}\n",
    "    for task in model.all_tasks:\n",
    "        model.task = task\n",
    "        y_true, y_pred, _ = val_a_epoch(model, loaderset[data_set][0], 'cpu')\n",
    "        pred_3m[task] = y_pred\n",
    "\n",
    "    # postprocessing_params\n",
    "\n",
    "    pred_3m = {k:standardize_by(v, k) for k, v in pred_3m.items()}\n",
    "    pred_3m_df = pd.DataFrame(pred_3m)\n",
    "    pred_3m_df[f'y_true_{data_set}'] = y_true\n",
    "\n",
    "    pred_3m_df[f'y_true_{data_set}_scaled'] = standardize_by(y_true, data_set)\n",
    "\n",
    "    pred_3m_df.mean(axis=0)\n",
    "\n",
    "    for task in model.all_tasks:\n",
    "        model.task = task\n",
    "        cor= stats.spearmanr(pred_3m_df[task].values, pred_3m_df[f'y_true_{data_set}_scaled'].values)[0]\n",
    "        rho= stats.pearsonr(pred_3m_df[task].values, pred_3m_df[f'y_true_{data_set}_scaled'].values)[0]\n",
    "        print(task, \"pearson r: %.3f\"%rho, \"spearman r: %.3f\"%cor)\n",
    "    return pred_3m_df"
   ]
  },
  {
   "cell_type": "code",
   "execution_count": 48,
   "id": "c041619f-60c6-4819-8080-bbc07299b74d",
   "metadata": {},
   "outputs": [
    {
     "name": "stdout",
     "output_type": "stream",
     "text": [
      "MPA_U pearson r: 0.091 spearman r: 0.135\n",
      "MPA_H pearson r: 0.085 spearman r: 0.115\n",
      "MPA_V pearson r: 0.150 spearman r: 0.154\n"
     ]
    }
   ],
   "source": [
    "rp293t_result = test_3m_on_3rdata(\"RP_293T\")"
   ]
  },
  {
   "cell_type": "code",
   "execution_count": 55,
   "id": "18b7b309-5e2b-4fd9-ad5c-7937247d6d3c",
   "metadata": {},
   "outputs": [
    {
     "name": "stderr",
     "output_type": "stream",
     "text": [
      "100%|██████████| 492/492 [00:24<00:00, 19.96it/s]\n",
      "100%|██████████| 492/492 [00:24<00:00, 20.02it/s]\n",
      "100%|██████████| 492/492 [00:24<00:00, 20.23it/s]"
     ]
    },
    {
     "name": "stdout",
     "output_type": "stream",
     "text": [
      "MPA_U pearson r: 0.157 spearman r: 0.204\n",
      "MPA_H pearson r: 0.125 spearman r: 0.152\n",
      "MPA_V pearson r: 0.213 spearman r: 0.206\n"
     ]
    },
    {
     "name": "stderr",
     "output_type": "stream",
     "text": [
      "\n"
     ]
    }
   ],
   "source": [
    "rppc3_result = test_3m_on_3rdata(\"RP_PC3\")"
   ]
  },
  {
   "cell_type": "code",
   "execution_count": 56,
   "id": "995f9ccd-c463-4394-9b56-90ca36c0700b",
   "metadata": {},
   "outputs": [
    {
     "name": "stderr",
     "output_type": "stream",
     "text": [
      "100%|██████████| 47/47 [00:02<00:00, 19.24it/s]\n",
      "100%|██████████| 47/47 [00:02<00:00, 18.84it/s]\n",
      "100%|██████████| 47/47 [00:02<00:00, 18.78it/s]"
     ]
    },
    {
     "name": "stdout",
     "output_type": "stream",
     "text": [
      "MPA_U pearson r: 0.050 spearman r: 0.095\n",
      "MPA_H pearson r: 0.069 spearman r: 0.112\n",
      "MPA_V pearson r: 0.158 spearman r: 0.121\n"
     ]
    },
    {
     "name": "stderr",
     "output_type": "stream",
     "text": [
      "\n"
     ]
    }
   ],
   "source": [
    "muscle_result = test_3m_on_3rdata(\"RP_muscle\")"
   ]
  },
  {
   "cell_type": "code",
   "execution_count": null,
   "id": "0c41dd4a-7c24-428d-bfb0-08447d98b259",
   "metadata": {},
   "outputs": [],
   "source": []
  }
 ],
 "metadata": {
  "kernelspec": {
   "display_name": "pytorch",
   "language": "python",
   "name": "pytorch"
  },
  "language_info": {
   "codemirror_mode": {
    "name": "ipython",
    "version": 3
   },
   "file_extension": ".py",
   "mimetype": "text/x-python",
   "name": "python",
   "nbconvert_exporter": "python",
   "pygments_lexer": "ipython3",
   "version": "3.8.12"
  }
 },
 "nbformat": 4,
 "nbformat_minor": 5
}
