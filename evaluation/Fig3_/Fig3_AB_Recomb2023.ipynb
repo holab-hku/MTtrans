{
 "cells": [
  {
   "cell_type": "code",
   "execution_count": 1,
   "id": "94ca4355-ff25-4f2a-b44b-ca6cbbadbf1f",
   "metadata": {},
   "outputs": [],
   "source": [
    "import os, sys\n",
    "import numpy as np\n",
    "import pandas as pd"
   ]
  },
  {
   "cell_type": "code",
   "execution_count": null,
   "id": "811f49c9-1965-4166-b851-eb556a3e2bd3",
   "metadata": {},
   "outputs": [],
   "source": [
    "# import 2m3r result and add to cellline "
   ]
  },
  {
   "cell_type": "code",
   "execution_count": 2,
   "id": "4cb990be-dd24-4ba9-b365-662bb02f25f4",
   "metadata": {},
   "outputs": [],
   "source": [
    "cell_result = pd.read_csv(\"FIG3_3cellline_permformance_sns.csv\")"
   ]
  },
  {
   "cell_type": "code",
   "execution_count": 5,
   "id": "4f9614e3-dd03-4158-86b3-06fd18a7b923",
   "metadata": {},
   "outputs": [],
   "source": [
    "m2r3_result = pd.read_csv(\"2m3r_spr_result.csv\")"
   ]
  },
  {
   "cell_type": "code",
   "execution_count": 6,
   "id": "36c59b32-1f34-4e6a-90d6-83cd1f32091c",
   "metadata": {},
   "outputs": [
    {
     "data": {
      "text/html": [
       "<div>\n",
       "<style scoped>\n",
       "    .dataframe tbody tr th:only-of-type {\n",
       "        vertical-align: middle;\n",
       "    }\n",
       "\n",
       "    .dataframe tbody tr th {\n",
       "        vertical-align: top;\n",
       "    }\n",
       "\n",
       "    .dataframe thead th {\n",
       "        text-align: right;\n",
       "    }\n",
       "</style>\n",
       "<table border=\"1\" class=\"dataframe\">\n",
       "  <thead>\n",
       "    <tr style=\"text-align: right;\">\n",
       "      <th></th>\n",
       "      <th>Andrev2015</th>\n",
       "      <th>pc3</th>\n",
       "      <th>muscle</th>\n",
       "      <th>human</th>\n",
       "      <th>vleng</th>\n",
       "      <th>fold</th>\n",
       "    </tr>\n",
       "  </thead>\n",
       "  <tbody>\n",
       "    <tr>\n",
       "      <th>0</th>\n",
       "      <td>0.638368</td>\n",
       "      <td>0.698094</td>\n",
       "      <td>0.670753</td>\n",
       "      <td>0.882279</td>\n",
       "      <td>0.87071</td>\n",
       "      <td>0</td>\n",
       "    </tr>\n",
       "    <tr>\n",
       "      <th>1</th>\n",
       "      <td>0.638368</td>\n",
       "      <td>0.698094</td>\n",
       "      <td>0.670753</td>\n",
       "      <td>0.882279</td>\n",
       "      <td>0.87071</td>\n",
       "      <td>1</td>\n",
       "    </tr>\n",
       "    <tr>\n",
       "      <th>2</th>\n",
       "      <td>0.638368</td>\n",
       "      <td>0.698094</td>\n",
       "      <td>0.670753</td>\n",
       "      <td>0.882279</td>\n",
       "      <td>0.87071</td>\n",
       "      <td>2</td>\n",
       "    </tr>\n",
       "    <tr>\n",
       "      <th>3</th>\n",
       "      <td>0.638368</td>\n",
       "      <td>0.698094</td>\n",
       "      <td>0.670753</td>\n",
       "      <td>0.882279</td>\n",
       "      <td>0.87071</td>\n",
       "      <td>3</td>\n",
       "    </tr>\n",
       "    <tr>\n",
       "      <th>4</th>\n",
       "      <td>0.638368</td>\n",
       "      <td>0.698094</td>\n",
       "      <td>0.670753</td>\n",
       "      <td>0.882279</td>\n",
       "      <td>0.87071</td>\n",
       "      <td>4</td>\n",
       "    </tr>\n",
       "    <tr>\n",
       "      <th>5</th>\n",
       "      <td>0.638368</td>\n",
       "      <td>0.698094</td>\n",
       "      <td>0.670753</td>\n",
       "      <td>0.882279</td>\n",
       "      <td>0.87071</td>\n",
       "      <td>5</td>\n",
       "    </tr>\n",
       "    <tr>\n",
       "      <th>6</th>\n",
       "      <td>0.638368</td>\n",
       "      <td>0.698094</td>\n",
       "      <td>0.670753</td>\n",
       "      <td>0.882279</td>\n",
       "      <td>0.87071</td>\n",
       "      <td>6</td>\n",
       "    </tr>\n",
       "    <tr>\n",
       "      <th>7</th>\n",
       "      <td>0.638368</td>\n",
       "      <td>0.698094</td>\n",
       "      <td>0.670753</td>\n",
       "      <td>0.882279</td>\n",
       "      <td>0.87071</td>\n",
       "      <td>7</td>\n",
       "    </tr>\n",
       "    <tr>\n",
       "      <th>8</th>\n",
       "      <td>0.638368</td>\n",
       "      <td>0.698094</td>\n",
       "      <td>0.670753</td>\n",
       "      <td>0.882279</td>\n",
       "      <td>0.87071</td>\n",
       "      <td>8</td>\n",
       "    </tr>\n",
       "    <tr>\n",
       "      <th>9</th>\n",
       "      <td>0.638368</td>\n",
       "      <td>0.698094</td>\n",
       "      <td>0.670753</td>\n",
       "      <td>0.882279</td>\n",
       "      <td>0.87071</td>\n",
       "      <td>9</td>\n",
       "    </tr>\n",
       "  </tbody>\n",
       "</table>\n",
       "</div>"
      ],
      "text/plain": [
       "   Andrev2015       pc3    muscle     human    vleng  fold\n",
       "0    0.638368  0.698094  0.670753  0.882279  0.87071     0\n",
       "1    0.638368  0.698094  0.670753  0.882279  0.87071     1\n",
       "2    0.638368  0.698094  0.670753  0.882279  0.87071     2\n",
       "3    0.638368  0.698094  0.670753  0.882279  0.87071     3\n",
       "4    0.638368  0.698094  0.670753  0.882279  0.87071     4\n",
       "5    0.638368  0.698094  0.670753  0.882279  0.87071     5\n",
       "6    0.638368  0.698094  0.670753  0.882279  0.87071     6\n",
       "7    0.638368  0.698094  0.670753  0.882279  0.87071     7\n",
       "8    0.638368  0.698094  0.670753  0.882279  0.87071     8\n",
       "9    0.638368  0.698094  0.670753  0.882279  0.87071     9"
      ]
     },
     "execution_count": 6,
     "metadata": {},
     "output_type": "execute_result"
    }
   ],
   "source": [
    "m2r3_result"
   ]
  },
  {
   "cell_type": "code",
   "execution_count": null,
   "id": "adb0ed5d-e908-4991-a33a-7634d3e74617",
   "metadata": {},
   "outputs": [],
   "source": []
  },
  {
   "cell_type": "code",
   "execution_count": null,
   "id": "7860192e-e238-4b16-bfa8-968c347a7277",
   "metadata": {},
   "outputs": [],
   "source": []
  }
 ],
 "metadata": {
  "kernelspec": {
   "display_name": "pytorch",
   "language": "python",
   "name": "pytorch"
  },
  "language_info": {
   "codemirror_mode": {
    "name": "ipython",
    "version": 3
   },
   "file_extension": ".py",
   "mimetype": "text/x-python",
   "name": "python",
   "nbconvert_exporter": "python",
   "pygments_lexer": "ipython3",
   "version": "3.8.12"
  }
 },
 "nbformat": 4,
 "nbformat_minor": 5
}
