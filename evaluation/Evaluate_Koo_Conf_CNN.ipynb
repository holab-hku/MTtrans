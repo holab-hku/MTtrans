{
 "cells": [
  {
   "cell_type": "code",
   "execution_count": 4,
   "id": "1a906438-51e9-4791-ba74-46d457a1e5ce",
   "metadata": {},
   "outputs": [],
   "source": [
    "import os, sys\n",
    "import torch"
   ]
  },
  {
   "cell_type": "code",
   "execution_count": 5,
   "id": "87f1b5b1-84cd-45d1-a99d-8d8921649d56",
   "metadata": {},
   "outputs": [],
   "source": [
    "sys.path.append(\"/ssd/users/wergillius/Project/MTtrans/models\")"
   ]
  },
  {
   "cell_type": "code",
   "execution_count": 6,
   "id": "ef1685b8-605e-47d4-95e2-222fd5321818",
   "metadata": {},
   "outputs": [],
   "source": [
    "from importlib import reload\n",
    "import Modules"
   ]
  },
  {
   "cell_type": "code",
   "execution_count": 25,
   "id": "4e5dabb3-938a-4294-9017-afa623d94fc7",
   "metadata": {},
   "outputs": [
    {
     "data": {
      "text/plain": [
       "<module 'Modules' from '/ssd/users/wergillius/Project/MTtrans/models/Modules/__init__.py'>"
      ]
     },
     "execution_count": 25,
     "metadata": {},
     "output_type": "execute_result"
    }
   ],
   "source": [
    "reload(Modules)"
   ]
  },
  {
   "cell_type": "code",
   "execution_count": 7,
   "id": "2ce6379f-8698-4487-a6de-95ff02f70e25",
   "metadata": {},
   "outputs": [
    {
     "data": {
      "text/plain": [
       "Modules.GP_net.RL_Atten"
      ]
     },
     "execution_count": 7,
     "metadata": {},
     "output_type": "execute_result"
    }
   ],
   "source": [
    "Modules.RL_Atten"
   ]
  },
  {
   "cell_type": "code",
   "execution_count": 26,
   "id": "0e042dd4-8fe6-46c3-8213-100faed568cd",
   "metadata": {},
   "outputs": [
    {
     "data": {
      "text/plain": [
       "Modules.GP_net.Atten_GP"
      ]
     },
     "execution_count": 26,
     "metadata": {},
     "output_type": "execute_result"
    }
   ],
   "source": [
    "Modules.Atten_GP"
   ]
  },
  {
   "cell_type": "code",
   "execution_count": 11,
   "id": "7227eeed-9493-43b9-8c54-c7be7b3275b6",
   "metadata": {},
   "outputs": [],
   "source": [
    "from Modules import Backbone\n",
    "from Modules import GP_net\n",
    "from Modules import Koo_net\n",
    "from Modules import zoo"
   ]
  },
  {
   "cell_type": "code",
   "execution_count": null,
   "id": "702e58c9-eb7b-467a-99e9-385b2135e2cc",
   "metadata": {},
   "outputs": [],
   "source": []
  },
  {
   "cell_type": "code",
   "execution_count": 3,
   "id": "f7edaa35-eaf0-4805-b2e4-006f4ecc3802",
   "metadata": {},
   "outputs": [
    {
     "data": {
      "text/plain": [
       "torch.Size([32, 120])"
      ]
     },
     "execution_count": 3,
     "metadata": {},
     "output_type": "execute_result"
    }
   ],
   "source": [
    "torch.randn((32, 120, 93)).amax(dim=-1).shape"
   ]
  },
  {
   "cell_type": "markdown",
   "id": "a4ad9f1a-37bd-48b9-8409-67c4b840eb5a",
   "metadata": {},
   "source": [
    "## hyper"
   ]
  },
  {
   "cell_type": "code",
   "execution_count": 67,
   "id": "94d85fc5-a8fe-485d-b757-e05110cca0f7",
   "metadata": {},
   "outputs": [],
   "source": [
    "# hyper parameter set for 100bp sequences\n",
    "channel_ls = [4, 120, 120]\n",
    "kernel_sizes = [8, 5]\n",
    "strides = [1, 1]\n",
    "pool_size = [10, 5]\n",
    "\n",
    "arct_params = [channel_ls, kernel_sizes, strides, pool_size]\n",
    "test_X = torch.randn((32,4, 100))"
   ]
  },
  {
   "cell_type": "code",
   "execution_count": 75,
   "id": "c5369bc5-8b30-4f83-9178-823357100817",
   "metadata": {},
   "outputs": [
    {
     "data": {
      "text/plain": [
       "<module 'Modules.Koo_net' from '/ssd/users/wergillius/Project/MTtrans/models/Modules/Koo_net.py'>"
      ]
     },
     "execution_count": 75,
     "metadata": {},
     "output_type": "execute_result"
    }
   ],
   "source": [
    "reload(Koo_net)"
   ]
  },
  {
   "cell_type": "code",
   "execution_count": 76,
   "id": "d8623c48-95eb-4b91-98dc-649e20c8fdfc",
   "metadata": {},
   "outputs": [],
   "source": [
    "network = Koo_net.Conf_CNN(*arct_params)"
   ]
  },
  {
   "cell_type": "code",
   "execution_count": 77,
   "id": "e4249753-2d60-4343-a4ed-cb10badac6c5",
   "metadata": {},
   "outputs": [
    {
     "data": {
      "text/plain": [
       "torch.Size([32, 1])"
      ]
     },
     "execution_count": 77,
     "metadata": {},
     "output_type": "execute_result"
    }
   ],
   "source": [
    "network(test_X).shape"
   ]
  },
  {
   "cell_type": "code",
   "execution_count": 59,
   "id": "d7878e28-755f-48de-8b95-e0a056aae2ce",
   "metadata": {},
   "outputs": [
    {
     "data": {
      "text/plain": [
       "Sequential(\n",
       "  (0): Conv1d(4, 120, kernel_size=(8,), stride=(1,))\n",
       "  (1): BatchNorm1d(120, eps=1e-05, momentum=0.1, affine=True, track_running_stats=True)\n",
       "  (2): Mish()\n",
       ")"
      ]
     },
     "execution_count": 59,
     "metadata": {},
     "output_type": "execute_result"
    }
   ],
   "source": [
    "network.network.Conv_1"
   ]
  },
  {
   "cell_type": "code",
   "execution_count": 61,
   "id": "1c4a8e44-72ff-47b4-bbe2-247e96deda14",
   "metadata": {},
   "outputs": [
    {
     "data": {
      "text/plain": [
       "torch.Size([32, 120, 93])"
      ]
     },
     "execution_count": 61,
     "metadata": {},
     "output_type": "execute_result"
    }
   ],
   "source": [
    "layer1_out =network.network.Conv_1(test_X)\n",
    "\n",
    "layer1_out.shape"
   ]
  },
  {
   "cell_type": "code",
   "execution_count": 62,
   "id": "ba126b6a-41bd-4d52-9357-d543658754de",
   "metadata": {},
   "outputs": [
    {
     "data": {
      "text/plain": [
       "torch.Size([32, 120, 9])"
      ]
     },
     "execution_count": 62,
     "metadata": {},
     "output_type": "execute_result"
    }
   ],
   "source": [
    "max_pool1_out = network.network.MaxPool_1(layer1_out)\n",
    "max_pool1_out.shape"
   ]
  },
  {
   "cell_type": "code",
   "execution_count": 63,
   "id": "51c8c857-36e4-4a3c-a04c-59e6d74e438c",
   "metadata": {},
   "outputs": [
    {
     "data": {
      "text/plain": [
       "torch.Size([32, 120, 5])"
      ]
     },
     "execution_count": 63,
     "metadata": {},
     "output_type": "execute_result"
    }
   ],
   "source": [
    "TestInput_l2 = torch.randn((32, 120, 9))\n",
    "layer2_out = network.network.Conv_2(TestInput_l2)\n",
    "layer2_out.shape"
   ]
  },
  {
   "cell_type": "code",
   "execution_count": 64,
   "id": "41740134-ebbf-4e5b-a1e5-11b8bce3e06a",
   "metadata": {},
   "outputs": [
    {
     "data": {
      "text/plain": [
       "torch.Size([32, 120, 1])"
      ]
     },
     "execution_count": 64,
     "metadata": {},
     "output_type": "execute_result"
    }
   ],
   "source": [
    "max_pool2_out = network.network.MaxPool_2(layer2_out)\n",
    "max_pool2_out.shape"
   ]
  },
  {
   "cell_type": "code",
   "execution_count": 79,
   "id": "d6b86a91-2478-4a25-9404-4475e9d9e6d9",
   "metadata": {},
   "outputs": [],
   "source": [
    "from torch import nn"
   ]
  },
  {
   "cell_type": "code",
   "execution_count": 80,
   "id": "cd194a1e-8a64-443e-9e5a-16d686614285",
   "metadata": {},
   "outputs": [],
   "source": [
    "test_linear = nn.Linear(4, 10)"
   ]
  },
  {
   "cell_type": "code",
   "execution_count": 82,
   "id": "00343c03-204b-4636-88cd-a3066d26b0c0",
   "metadata": {},
   "outputs": [
    {
     "data": {
      "text/plain": [
       "torch.Size([32, 12, 10])"
      ]
     },
     "execution_count": 82,
     "metadata": {},
     "output_type": "execute_result"
    }
   ],
   "source": [
    "test_linear(torch.randn(32, 12, 4)).shape"
   ]
  },
  {
   "cell_type": "code",
   "execution_count": 8,
   "id": "3604413a-2f3c-423c-a33c-14755fd1bc1d",
   "metadata": {},
   "outputs": [
    {
     "data": {
      "text/plain": [
       "49152"
      ]
     },
     "execution_count": 8,
     "metadata": {},
     "output_type": "execute_result"
    }
   ],
   "source": [
    "768*64"
   ]
  },
  {
   "cell_type": "code",
   "execution_count": 9,
   "id": "5148104c-a30c-4c0d-b77c-9eff0817de62",
   "metadata": {},
   "outputs": [
    {
     "data": {
      "text/plain": [
       "6.0"
      ]
     },
     "execution_count": 9,
     "metadata": {},
     "output_type": "execute_result"
    }
   ],
   "source": [
    "768/128"
   ]
  },
  {
   "cell_type": "code",
   "execution_count": 10,
   "id": "aeec6b54-564f-442b-918a-da5bc704f1be",
   "metadata": {},
   "outputs": [],
   "source": [
    "test_out = torch.randn((32,53, 128))"
   ]
  },
  {
   "cell_type": "code",
   "execution_count": 16,
   "id": "c15daf97-aa47-4cab-a601-472e7d6ad4f1",
   "metadata": {},
   "outputs": [
    {
     "data": {
      "text/plain": [
       "tensor([ 0,  3,  6,  9, 12, 15, 18, 21, 24, 27, 30, 33, 36, 39, 42, 45, 48, 51])"
      ]
     },
     "execution_count": 16,
     "metadata": {},
     "output_type": "execute_result"
    }
   ],
   "source": []
  },
  {
   "cell_type": "code",
   "execution_count": 14,
   "id": "95cc2eb3-7b14-4e81-a347-083cb1863c1f",
   "metadata": {},
   "outputs": [
    {
     "data": {
      "text/plain": [
       "tensor([ 1,  4,  7, 10, 13, 16, 19, 22, 25, 28, 31, 34, 37, 40, 43, 46, 49, 52])"
      ]
     },
     "execution_count": 14,
     "metadata": {},
     "output_type": "execute_result"
    }
   ],
   "source": [
    "torch.arange(1, 53, 3)"
   ]
  },
  {
   "cell_type": "code",
   "execution_count": 15,
   "id": "4f4131fc-c637-4ad4-bd51-8d253ff3922b",
   "metadata": {},
   "outputs": [
    {
     "data": {
      "text/plain": [
       "tensor([ 2,  5,  8, 11, 14, 17, 20, 23, 26, 29, 32, 35, 38, 41, 44, 47, 50])"
      ]
     },
     "execution_count": 15,
     "metadata": {},
     "output_type": "execute_result"
    }
   ],
   "source": [
    "torch.arange(2, 53, 3)"
   ]
  },
  {
   "cell_type": "code",
   "execution_count": 21,
   "id": "c897460d-5676-480e-8bce-23838c640f1d",
   "metadata": {},
   "outputs": [],
   "source": [
    "import numpy as np"
   ]
  },
  {
   "cell_type": "code",
   "execution_count": 30,
   "id": "a479b1c4-a8e4-40bb-be60-a673b167e489",
   "metadata": {},
   "outputs": [],
   "source": [
    "test_out = []\n",
    "for i in range(3):\n",
    "    line = np.array([1,2,3]*18) + i *10\n",
    "    test_out.append(line.tolist())\n",
    "\n",
    "test_out_ay = np.asarray(test_out)"
   ]
  },
  {
   "cell_type": "code",
   "execution_count": 33,
   "id": "ae6f7254-6ed0-4453-929e-ba742406f06a",
   "metadata": {},
   "outputs": [
    {
     "data": {
      "text/plain": [
       "array([[ 1,  1,  1,  1,  1,  1,  1,  1,  1,  1,  1,  1,  1,  1,  1,  1,\n",
       "         1,  1],\n",
       "       [11, 11, 11, 11, 11, 11, 11, 11, 11, 11, 11, 11, 11, 11, 11, 11,\n",
       "        11, 11],\n",
       "       [21, 21, 21, 21, 21, 21, 21, 21, 21, 21, 21, 21, 21, 21, 21, 21,\n",
       "        21, 21]])"
      ]
     },
     "execution_count": 33,
     "metadata": {},
     "output_type": "execute_result"
    }
   ],
   "source": [
    "test_out_ay[:, np.arange(0, 54, 3)]"
   ]
  },
  {
   "cell_type": "code",
   "execution_count": 34,
   "id": "7368da2e-6cc3-434e-97d6-06cb1c8322b9",
   "metadata": {},
   "outputs": [
    {
     "data": {
      "text/plain": [
       "array([[ 2,  2,  2,  2,  2,  2,  2,  2,  2,  2,  2,  2,  2,  2,  2,  2,\n",
       "         2,  2],\n",
       "       [12, 12, 12, 12, 12, 12, 12, 12, 12, 12, 12, 12, 12, 12, 12, 12,\n",
       "        12, 12],\n",
       "       [22, 22, 22, 22, 22, 22, 22, 22, 22, 22, 22, 22, 22, 22, 22, 22,\n",
       "        22, 22]])"
      ]
     },
     "execution_count": 34,
     "metadata": {},
     "output_type": "execute_result"
    }
   ],
   "source": [
    "test_out_ay[:, np.arange(1, 54, 3)]"
   ]
  },
  {
   "cell_type": "code",
   "execution_count": 35,
   "id": "cfa112b4-98a5-4274-a6d4-e61f059aeda9",
   "metadata": {},
   "outputs": [],
   "source": [
    "test_out = torch.from_numpy(test_out_ay)"
   ]
  },
  {
   "cell_type": "code",
   "execution_count": 46,
   "id": "4d91f758-eb02-4a71-ab28-6e7e70d77aae",
   "metadata": {},
   "outputs": [],
   "source": [
    "test_out_ts = torch.cat([test_out.view(1,54,3)]*4)"
   ]
  },
  {
   "cell_type": "code",
   "execution_count": 47,
   "id": "4acc81e7-f39f-4629-8ee7-2193835d2e07",
   "metadata": {},
   "outputs": [
    {
     "data": {
      "text/plain": [
       "torch.Size([4, 54, 3])"
      ]
     },
     "execution_count": 47,
     "metadata": {},
     "output_type": "execute_result"
    }
   ],
   "source": [
    "test_out_ts.shape"
   ]
  },
  {
   "cell_type": "code",
   "execution_count": 66,
   "id": "60189fcf-3e4c-494a-84af-1c5270300587",
   "metadata": {},
   "outputs": [],
   "source": [
    "manual_test = torch.tensor(\n",
    "    [[[1,  2,  3,  4,  5,  6,  7,  8, 9],\n",
    "     [11, 12, 13, 14, 15, 16, 17, 18, 19],\n",
    "     [21, 22, 23, 24, 25, 26, 27, 28, 29]\n",
    "    ],\n",
    "    [[1,  2,  3,  4,  5,  6,  7,  8, 9],\n",
    "     [11, 12, 13, 14, 15, 16, 17, 18, 19],\n",
    "     [21, 22, 23, 24, 25, 26, 27, 28, 29]\n",
    "    ]]\n",
    ").transpose(1,2)\n",
    "manual_test -= 1"
   ]
  },
  {
   "cell_type": "code",
   "execution_count": 68,
   "id": "16b50d75-72e7-474e-8583-6ada9f0afdb7",
   "metadata": {},
   "outputs": [
    {
     "data": {
      "text/plain": [
       "torch.Size([2, 9, 3])"
      ]
     },
     "execution_count": 68,
     "metadata": {},
     "output_type": "execute_result"
    }
   ],
   "source": [
    "manual_test.shape"
   ]
  },
  {
   "cell_type": "code",
   "execution_count": 95,
   "id": "3947e974-4b79-4457-8aa1-566ad443617b",
   "metadata": {},
   "outputs": [
    {
     "ename": "TypeError",
     "evalue": "select() received an invalid combination of arguments - got (int, Tensor), but expected one of:\n * (int dim, int index)\n      didn't match because some of the arguments have invalid types: (int, !Tensor!)\n * (name dim, int index)\n      didn't match because some of the arguments have invalid types: (!int!, !Tensor!)\n",
     "output_type": "error",
     "traceback": [
      "\u001b[0;31m---------------------------------------------------------------------------\u001b[0m",
      "\u001b[0;31mTypeError\u001b[0m                                 Traceback (most recent call last)",
      "\u001b[0;32m/tmp/ipykernel_27303/1883458132.py\u001b[0m in \u001b[0;36m<module>\u001b[0;34m\u001b[0m\n\u001b[0;32m----> 1\u001b[0;31m \u001b[0mmanual_test\u001b[0m\u001b[0;34m.\u001b[0m\u001b[0mselect\u001b[0m\u001b[0;34m(\u001b[0m\u001b[0;36m1\u001b[0m\u001b[0;34m,\u001b[0m \u001b[0mtorch\u001b[0m\u001b[0;34m.\u001b[0m\u001b[0mtensor\u001b[0m\u001b[0;34m(\u001b[0m\u001b[0;34m[\u001b[0m\u001b[0;36m0\u001b[0m\u001b[0;34m,\u001b[0m\u001b[0;36m3\u001b[0m\u001b[0;34m]\u001b[0m\u001b[0;34m)\u001b[0m\u001b[0;34m)\u001b[0m\u001b[0;34m\u001b[0m\u001b[0;34m\u001b[0m\u001b[0m\n\u001b[0m",
      "\u001b[0;31mTypeError\u001b[0m: select() received an invalid combination of arguments - got (int, Tensor), but expected one of:\n * (int dim, int index)\n      didn't match because some of the arguments have invalid types: (int, !Tensor!)\n * (name dim, int index)\n      didn't match because some of the arguments have invalid types: (!int!, !Tensor!)\n"
     ]
    }
   ],
   "source": [
    "manual_test.select(1, torch.tensor([0,3]))"
   ]
  },
  {
   "cell_type": "code",
   "execution_count": 87,
   "id": "b4a82ddb-11b8-410e-ad49-78afa88698e7",
   "metadata": {},
   "outputs": [
    {
     "name": "stdout",
     "output_type": "stream",
     "text": [
      "torch.Size([3])\n",
      "torch.Size([3, 3])\n"
     ]
    }
   ],
   "source": [
    "index_x = torch.tensor([0, 3, 6])\n",
    "print(index_x.shape)\n",
    "index_x = index_x.expand(3, 3)\n",
    "print(index_x.shape)\n",
    "index_x = index_x.expand(2, 3, 3)"
   ]
  },
  {
   "cell_type": "code",
   "execution_count": 88,
   "id": "43546364-f318-4fa0-8f72-ae78e17a36c0",
   "metadata": {},
   "outputs": [
    {
     "data": {
      "text/plain": [
       "tensor([[[0, 3, 6],\n",
       "         [0, 3, 6],\n",
       "         [0, 3, 6]],\n",
       "\n",
       "        [[0, 3, 6],\n",
       "         [0, 3, 6],\n",
       "         [0, 3, 6]]])"
      ]
     },
     "execution_count": 88,
     "metadata": {},
     "output_type": "execute_result"
    }
   ],
   "source": [
    "index_x"
   ]
  },
  {
   "cell_type": "code",
   "execution_count": 71,
   "id": "dfe5f75e-1209-43bc-a7c7-a3d53b675d0f",
   "metadata": {},
   "outputs": [
    {
     "data": {
      "text/plain": [
       "tensor([[ 0, 13, 26]])"
      ]
     },
     "execution_count": 71,
     "metadata": {},
     "output_type": "execute_result"
    }
   ],
   "source": [
    "manual_test[0].gather(0, torch.tensor([[0, 3, 6]]))"
   ]
  },
  {
   "cell_type": "code",
   "execution_count": 74,
   "id": "d009f8ed-c93e-4ebf-9202-82de784395bd",
   "metadata": {},
   "outputs": [
    {
     "data": {
      "text/plain": [
       "tensor(13)"
      ]
     },
     "execution_count": 74,
     "metadata": {},
     "output_type": "execute_result"
    }
   ],
   "source": [
    "manual_test[0][3,1]"
   ]
  },
  {
   "cell_type": "code",
   "execution_count": 54,
   "id": "57ecaedd-8757-4f0a-b6e5-84d093cb9115",
   "metadata": {
    "tags": []
   },
   "outputs": [
    {
     "data": {
      "text/plain": [
       "tensor([[ 1,  2,  3],\n",
       "        [ 1,  2,  3],\n",
       "        [ 1,  2,  3],\n",
       "        [ 1,  2,  3],\n",
       "        [ 1,  2,  3],\n",
       "        [ 1,  2,  3],\n",
       "        [ 1,  2,  3],\n",
       "        [ 1,  2,  3],\n",
       "        [ 1,  2,  3],\n",
       "        [ 1,  2,  3],\n",
       "        [ 1,  2,  3],\n",
       "        [ 1,  2,  3],\n",
       "        [ 1,  2,  3],\n",
       "        [ 1,  2,  3],\n",
       "        [ 1,  2,  3],\n",
       "        [ 1,  2,  3],\n",
       "        [ 1,  2,  3],\n",
       "        [ 1,  2,  3],\n",
       "        [11, 12, 13],\n",
       "        [11, 12, 13],\n",
       "        [11, 12, 13],\n",
       "        [11, 12, 13],\n",
       "        [11, 12, 13],\n",
       "        [11, 12, 13],\n",
       "        [11, 12, 13],\n",
       "        [11, 12, 13],\n",
       "        [11, 12, 13],\n",
       "        [11, 12, 13],\n",
       "        [11, 12, 13],\n",
       "        [11, 12, 13],\n",
       "        [11, 12, 13],\n",
       "        [11, 12, 13],\n",
       "        [11, 12, 13],\n",
       "        [11, 12, 13],\n",
       "        [11, 12, 13],\n",
       "        [11, 12, 13],\n",
       "        [21, 22, 23],\n",
       "        [21, 22, 23],\n",
       "        [21, 22, 23],\n",
       "        [21, 22, 23],\n",
       "        [21, 22, 23],\n",
       "        [21, 22, 23],\n",
       "        [21, 22, 23],\n",
       "        [21, 22, 23],\n",
       "        [21, 22, 23],\n",
       "        [21, 22, 23],\n",
       "        [21, 22, 23],\n",
       "        [21, 22, 23],\n",
       "        [21, 22, 23],\n",
       "        [21, 22, 23],\n",
       "        [21, 22, 23],\n",
       "        [21, 22, 23],\n",
       "        [21, 22, 23],\n",
       "        [21, 22, 23]])"
      ]
     },
     "execution_count": 54,
     "metadata": {},
     "output_type": "execute_result"
    }
   ],
   "source": [
    "test_out_ts[0,:,:]"
   ]
  },
  {
   "cell_type": "code",
   "execution_count": 52,
   "id": "cc0b0497-5216-4e74-976e-6bff220faed4",
   "metadata": {},
   "outputs": [
    {
     "data": {
      "text/plain": [
       "tensor([[[ 1,  2,  3],\n",
       "         [ 1,  2,  3],\n",
       "         [ 1,  2,  3],\n",
       "         [ 1,  2,  3],\n",
       "         [ 1,  2,  3],\n",
       "         [ 1,  2,  3],\n",
       "         [11, 12, 13],\n",
       "         [11, 12, 13],\n",
       "         [11, 12, 13],\n",
       "         [11, 12, 13],\n",
       "         [11, 12, 13],\n",
       "         [11, 12, 13],\n",
       "         [21, 22, 23],\n",
       "         [21, 22, 23],\n",
       "         [21, 22, 23],\n",
       "         [21, 22, 23],\n",
       "         [21, 22, 23],\n",
       "         [21, 22, 23]],\n",
       "\n",
       "        [[ 1,  2,  3],\n",
       "         [ 1,  2,  3],\n",
       "         [ 1,  2,  3],\n",
       "         [ 1,  2,  3],\n",
       "         [ 1,  2,  3],\n",
       "         [ 1,  2,  3],\n",
       "         [11, 12, 13],\n",
       "         [11, 12, 13],\n",
       "         [11, 12, 13],\n",
       "         [11, 12, 13],\n",
       "         [11, 12, 13],\n",
       "         [11, 12, 13],\n",
       "         [21, 22, 23],\n",
       "         [21, 22, 23],\n",
       "         [21, 22, 23],\n",
       "         [21, 22, 23],\n",
       "         [21, 22, 23],\n",
       "         [21, 22, 23]],\n",
       "\n",
       "        [[ 1,  2,  3],\n",
       "         [ 1,  2,  3],\n",
       "         [ 1,  2,  3],\n",
       "         [ 1,  2,  3],\n",
       "         [ 1,  2,  3],\n",
       "         [ 1,  2,  3],\n",
       "         [11, 12, 13],\n",
       "         [11, 12, 13],\n",
       "         [11, 12, 13],\n",
       "         [11, 12, 13],\n",
       "         [11, 12, 13],\n",
       "         [11, 12, 13],\n",
       "         [21, 22, 23],\n",
       "         [21, 22, 23],\n",
       "         [21, 22, 23],\n",
       "         [21, 22, 23],\n",
       "         [21, 22, 23],\n",
       "         [21, 22, 23]],\n",
       "\n",
       "        [[ 1,  2,  3],\n",
       "         [ 1,  2,  3],\n",
       "         [ 1,  2,  3],\n",
       "         [ 1,  2,  3],\n",
       "         [ 1,  2,  3],\n",
       "         [ 1,  2,  3],\n",
       "         [11, 12, 13],\n",
       "         [11, 12, 13],\n",
       "         [11, 12, 13],\n",
       "         [11, 12, 13],\n",
       "         [11, 12, 13],\n",
       "         [11, 12, 13],\n",
       "         [21, 22, 23],\n",
       "         [21, 22, 23],\n",
       "         [21, 22, 23],\n",
       "         [21, 22, 23],\n",
       "         [21, 22, 23],\n",
       "         [21, 22, 23]]])"
      ]
     },
     "execution_count": 52,
     "metadata": {},
     "output_type": "execute_result"
    }
   ],
   "source": [
    "test_out_ts[:, torch.arange(1, 54, 3), :]"
   ]
  },
  {
   "cell_type": "code",
   "execution_count": 50,
   "id": "7259c7e1-cf51-4254-8fae-4ce3cbe60303",
   "metadata": {},
   "outputs": [
    {
     "ename": "RuntimeError",
     "evalue": "Size does not match at dimension 0 expected index [18, 1, 1] to be smaller than self [4, 54, 3] apart from dimension 1",
     "output_type": "error",
     "traceback": [
      "\u001b[0;31m---------------------------------------------------------------------------\u001b[0m",
      "\u001b[0;31mRuntimeError\u001b[0m                              Traceback (most recent call last)",
      "\u001b[0;32m/tmp/ipykernel_27303/1896028867.py\u001b[0m in \u001b[0;36m<module>\u001b[0;34m\u001b[0m\n\u001b[0;32m----> 1\u001b[0;31m \u001b[0mtest_out_ts\u001b[0m\u001b[0;34m.\u001b[0m\u001b[0mgather\u001b[0m\u001b[0;34m(\u001b[0m\u001b[0mdim\u001b[0m\u001b[0;34m=\u001b[0m\u001b[0;36m1\u001b[0m\u001b[0;34m,\u001b[0m \u001b[0mindex\u001b[0m\u001b[0;34m=\u001b[0m\u001b[0mtorch\u001b[0m\u001b[0;34m.\u001b[0m\u001b[0marange\u001b[0m\u001b[0;34m(\u001b[0m\u001b[0;36m1\u001b[0m\u001b[0;34m,\u001b[0m \u001b[0;36m54\u001b[0m\u001b[0;34m,\u001b[0m \u001b[0;36m3\u001b[0m\u001b[0;34m)\u001b[0m\u001b[0;34m.\u001b[0m\u001b[0mview\u001b[0m\u001b[0;34m(\u001b[0m\u001b[0;36m18\u001b[0m\u001b[0;34m,\u001b[0m\u001b[0;36m1\u001b[0m\u001b[0;34m,\u001b[0m\u001b[0;36m1\u001b[0m\u001b[0;34m)\u001b[0m\u001b[0;34m)\u001b[0m\u001b[0;34m\u001b[0m\u001b[0;34m\u001b[0m\u001b[0m\n\u001b[0m",
      "\u001b[0;31mRuntimeError\u001b[0m: Size does not match at dimension 0 expected index [18, 1, 1] to be smaller than self [4, 54, 3] apart from dimension 1"
     ]
    }
   ],
   "source": [
    "test_out_ts.gather(dim=1, index=torch.arange(1, 54, 3).view(18,1,1))"
   ]
  },
  {
   "cell_type": "code",
   "execution_count": 49,
   "id": "0638cb40-4f7c-48ea-80c3-d1f04aa616b6",
   "metadata": {},
   "outputs": [
    {
     "data": {
      "text/plain": [
       "torch.Size([18])"
      ]
     },
     "execution_count": 49,
     "metadata": {},
     "output_type": "execute_result"
    }
   ],
   "source": [
    "torch.arange(1, 54, 3).shape"
   ]
  },
  {
   "cell_type": "raw",
   "id": "104e9b27-6173-4378-9f57-f4f5c56b94ab",
   "metadata": {},
   "source": [
    "t"
   ]
  }
 ],
 "metadata": {
  "kernelspec": {
   "display_name": "Python 3 (ipykernel)",
   "language": "python",
   "name": "python3"
  },
  "language_info": {
   "codemirror_mode": {
    "name": "ipython",
    "version": 3
   },
   "file_extension": ".py",
   "mimetype": "text/x-python",
   "name": "python",
   "nbconvert_exporter": "python",
   "pygments_lexer": "ipython3",
   "version": "3.8.12"
  }
 },
 "nbformat": 4,
 "nbformat_minor": 5
}
